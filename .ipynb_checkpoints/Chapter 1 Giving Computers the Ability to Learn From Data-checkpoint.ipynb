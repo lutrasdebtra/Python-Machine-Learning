{
 "cells": [
  {
   "cell_type": "markdown",
   "metadata": {},
   "source": [
    "# Types of Machine Learning\n",
    "\n",
    "## Supervised Learning\n",
    "\n",
    "Supervised learning uses pre-labelled training data to create a model. From here, the model can be applied to unlabelled data, in the hopes that it provides new insights.\n",
    "\n",
    "### Classification\n",
    "\n",
    "Where class labels are discrete, classification is used. Binary classification is the most basic form, where data points are in one of two groups. From here, multi-class classifcation tasks can break down data points into multiple classes.\n",
    "\n",
    "### Regression\n",
    "\n",
    "Where outcomes are continious, regression is used. Explanatory variables are fed into the regression, which results in some continious response. Linear regression constructs a straight line relationship between a set of exploratory variables and their responses. However, more complex regression is entirely possible. \n",
    "\n",
    "## Reinforcement Learning\n",
    "\n",
    "This type of learning works by improving a model based on continued interactions with its environment. The system attempts to use reward signals of its actions to maximise some reward function. \n",
    "\n",
    "## Unsupervised Learning\n",
    "\n",
    "Where pre-labelled data is not present,the structure of the data can still be mined for insights. \n",
    "\n",
    "### Clustering\n",
    "\n",
    "By grouping data points on some measure of similarity, it's possible to generate meaningful relationships. This technique is also known as unsupervised clustering. \n",
    "\n",
    "### Dimensionality Reduction\n",
    "\n",
    "For huge datasets, it can often be impossible to extract any meaningful information quickly, due to the sheer volume. Dimensionality reduction attempts to remove noise from the data, while maintaining good signal. \n",
    "\n",
    "# Building a Machine Learning System\n",
    "\n",
    "- Preprocessing\n",
    "  - Feature Extraction and Scaling\n",
    "  - Feature Selection\n",
    "  - Dimensionality Reduction\n",
    "  - Samping \n",
    "  - Data Cleaning\n",
    "  - Training and Test Splits\n",
    "- Learning\n",
    "  - Model Selection\n",
    "  - Cross Validation\n",
    "  - Performance Metrics\n",
    "  - Hyperparameter Tuning\n",
    "- Evaluation \n",
    "- Prediction"
   ]
  },
  {
   "cell_type": "code",
   "execution_count": null,
   "metadata": {
    "collapsed": true
   },
   "outputs": [],
   "source": []
  }
 ],
 "metadata": {
  "kernelspec": {
   "display_name": "Python 3",
   "language": "python",
   "name": "python3"
  },
  "language_info": {
   "codemirror_mode": {
    "name": "ipython",
    "version": 3
   },
   "file_extension": ".py",
   "mimetype": "text/x-python",
   "name": "python",
   "nbconvert_exporter": "python",
   "pygments_lexer": "ipython3",
   "version": "3.6.3"
  }
 },
 "nbformat": 4,
 "nbformat_minor": 2
}
